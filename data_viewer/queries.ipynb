{
 "cells": [
  {
   "cell_type": "code",
   "execution_count": 1,
   "metadata": {},
   "outputs": [],
   "source": [
    "from yelp_metadata import load_session\n",
    "\n",
    "session = load_session()"
   ]
  },
  {
   "cell_type": "code",
   "execution_count": 2,
   "metadata": {},
   "outputs": [
    {
     "name": "stdout",
     "output_type": "stream",
     "text": [
      "1518169\n",
      "Susan\n"
     ]
    }
   ],
   "source": [
    "from yelp_metadata import User\n",
    "\n",
    "user_count = session.query(User).count()\n",
    "first_user = session.query(User).first()\n",
    "print(user_count)\n",
    "print(first_user.name)"
   ]
  },
  {
   "cell_type": "code",
   "execution_count": 3,
   "metadata": {},
   "outputs": [
    {
     "name": "stdout",
     "output_type": "stream",
     "text": [
      "188593\n",
      "Minhas Micro Brewery\n"
     ]
    }
   ],
   "source": [
    "from yelp_metadata import Business\n",
    "\n",
    "bussiness_count = session.query(Business).count()\n",
    "first_bussiness = session.query(Business).first()\n",
    "print(bussiness_count)\n",
    "print(first_bussiness.name)"
   ]
  },
  {
   "cell_type": "code",
   "execution_count": 4,
   "metadata": {},
   "outputs": [
    {
     "name": "stdout",
     "output_type": "stream",
     "text": [
      "5996996\n",
      "The pizza was okay. Not the best I've had. I prefer Biaggio's on Flamingo / Fort Apache. The chef there can make a MUCH better NY style pizza. The pizzeria @ Cosmo was over priced for the quality and lack of personality in the food. Biaggio's is a much better pick if youre going for italian - family owned, home made recipes, people that actually CARE if you like their food. You dont get that at a pizzeria in a casino. I dont care what you say...\n"
     ]
    }
   ],
   "source": [
    "from yelp_metadata import Review\n",
    "\n",
    "review_count = session.query(Review).count()\n",
    "first_review = session.query(Review).first()\n",
    "print(review_count)\n",
    "print(first_review.text)"
   ]
  },
  {
   "cell_type": "code",
   "execution_count": null,
   "metadata": {},
   "outputs": [],
   "source": []
  }
 ],
 "metadata": {
  "kernelspec": {
   "display_name": "Python 3",
   "language": "python",
   "name": "python3"
  },
  "language_info": {
   "codemirror_mode": {
    "name": "ipython",
    "version": 3
   },
   "file_extension": ".py",
   "mimetype": "text/x-python",
   "name": "python",
   "nbconvert_exporter": "python",
   "pygments_lexer": "ipython3",
   "version": "3.6.6"
  }
 },
 "nbformat": 4,
 "nbformat_minor": 2
}
