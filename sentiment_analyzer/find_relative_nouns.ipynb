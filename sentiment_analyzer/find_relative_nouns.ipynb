{
 "cells": [
  {
   "cell_type": "markdown",
   "metadata": {},
   "source": [
    "# Convert word to vector with spaCy"
   ]
  },
  {
   "cell_type": "code",
   "execution_count": 1,
   "metadata": {},
   "outputs": [],
   "source": [
    "# Load spaCy model\n",
    "import spacy\n",
    "nlp = spacy.load('en_core_web_lg')"
   ]
  },
  {
   "cell_type": "code",
   "execution_count": 2,
   "metadata": {},
   "outputs": [
    {
     "name": "stdout",
     "output_type": "stream",
     "text": [
      "1350\n"
     ]
    }
   ],
   "source": [
    "# Load nouns that appear at least 1000 times\n",
    "input_file = 'data/nouns_1000.txt'\n",
    "\n",
    "nouns = []\n",
    "with open(input_file, 'r') as f:\n",
    "    for line in f:\n",
    "        nouns.append(line[:-1])  # Remove newline\n",
    "print(len(nouns))"
   ]
  },
  {
   "cell_type": "code",
   "execution_count": 3,
   "metadata": {},
   "outputs": [],
   "source": [
    "# Use spaCy model to get tokens\n",
    "# Remove docs that have more than one token\n",
    "def get_tokens(nouns):\n",
    "    docs = [nlp(noun) for noun in nouns]\n",
    "    tokens = [doc[0] for doc in docs if len(doc) == 1]\n",
    "    return tokens"
   ]
  },
  {
   "cell_type": "code",
   "execution_count": 4,
   "metadata": {},
   "outputs": [
    {
     "name": "stdout",
     "output_type": "stream",
     "text": [
      "1350\n"
     ]
    }
   ],
   "source": [
    "tokens = get_tokens(nouns)\n",
    "print(len(tokens))"
   ]
  },
  {
   "cell_type": "code",
   "execution_count": 5,
   "metadata": {},
   "outputs": [
    {
     "name": "stdout",
     "output_type": "stream",
     "text": [
      "1347\n"
     ]
    }
   ],
   "source": [
    "# Get nouns that are in the vocabulary of the model\n",
    "inv_nouns = [token for token in tokens if not token.is_oov]\n",
    "print(len(inv_nouns))"
   ]
  },
  {
   "cell_type": "code",
   "execution_count": 6,
   "metadata": {},
   "outputs": [],
   "source": [
    "# Get vectors\n",
    "vectors = [noun.vector for noun in inv_nouns]"
   ]
  },
  {
   "cell_type": "markdown",
   "metadata": {},
   "source": [
    "# View words"
   ]
  },
  {
   "cell_type": "code",
   "execution_count": 7,
   "metadata": {},
   "outputs": [],
   "source": [
    "vectors_20 = vectors[:20]"
   ]
  },
  {
   "cell_type": "code",
   "execution_count": 8,
   "metadata": {},
   "outputs": [],
   "source": [
    "from sklearn.decomposition import PCA\n",
    "pca = PCA(n_components=2)\n",
    "pca.fit(vectors_20)\n",
    "vectors_20_2D = pca.transform(vectors_20)"
   ]
  },
  {
   "cell_type": "code",
   "execution_count": 10,
   "metadata": {},
   "outputs": [
    {
     "data": {
      "image/png": "[encoded data removed]",
      "text/plain": [
       "<Figure size 1440x720 with 1 Axes>"
      ]
     },
     "metadata": {
      "needs_background": "light"
     },
     "output_type": "display_data"
    }
   ],
   "source": [
    "import matplotlib.pyplot as plt\n",
    "\n",
    "plt.figure(figsize=(20,10))\n",
    "plt.scatter(vectors_20_2D[:,0], vectors_20_2D[:,1])\n",
    "\n",
    "for word, coord in zip(inv_nouns, vectors_20_2D):\n",
    "    x, y = coord\n",
    "    plt.text(x, y, word.text, size=12)\n",
    "\n",
    "plt.show()"
   ]
  },
  {
   "cell_type": "markdown",
   "metadata": {},
   "source": [
    "# Find relative nouns"
   ]
  },
  {
   "cell_type": "code",
   "execution_count": 11,
   "metadata": {},
   "outputs": [],
   "source": [
    "def find_noun_object(nouns, text):\n",
    "    for noun in nouns:\n",
    "        if noun.text == text:\n",
    "            return noun\n",
    "\n",
    "# def find_relative_nouns(nouns, initial_nouns, threshold):\n",
    "#     length_before = len(initial_nouns)\n",
    "#     for noun in nouns:\n",
    "#         for initial_noun in initial_nouns:\n",
    "#             if noun.similarity(initial_noun) >= threshold:\n",
    "#                 initial_nouns.add(noun)\n",
    "#                 break\n",
    "#     length_after = len(initial_nouns)\n",
    "    \n",
    "#     if length_before == length_after:\n",
    "#         return initial_nouns\n",
    "#     else:\n",
    "#         return find_relative_nouns(nouns, initial_nouns, threshold)\n",
    "\n",
    "def find_relative_nouns(nouns, initial_nouns, threshold):\n",
    "    open_set = initial_nouns\n",
    "    closed_set = set()\n",
    "\n",
    "    while open_set:\n",
    "        candidate = open_set.pop()\n",
    "        for noun in nouns:\n",
    "            if candidate.similarity(noun) >= threshold and noun not in closed_set:\n",
    "                open_set.add(noun)\n",
    "        closed_set.add(candidate)\n",
    "    \n",
    "    return closed_set\n",
    "\n",
    "def get_nouns_in_aspects(nouns, aspects, threshold):\n",
    "    aspects_dict = {}\n",
    "    for aspect in aspects:\n",
    "        obj = find_noun_object(nouns, aspect)\n",
    "        initial_nouns = {obj}\n",
    "        final_nouns = find_relative_nouns(nouns, initial_nouns, threshold)\n",
    "        aspects_dict[aspect] = {noun.text for noun in final_nouns}\n",
    "    return aspects_dict"
   ]
  },
  {
   "cell_type": "code",
   "execution_count": 12,
   "metadata": {},
   "outputs": [
    {
     "name": "stdout",
     "output_type": "stream",
     "text": [
      "CPU times: user 1.43 s, sys: 133 ms, total: 1.56 s\n",
      "Wall time: 1.45 s\n"
     ]
    }
   ],
   "source": [
    "aspects = {'price', 'atmosphere', 'food', 'service'}\n",
    "threshold = 0.7\n",
    "\n",
    "%time res = get_nouns_in_aspects(inv_nouns, aspects, threshold)"
   ]
  },
  {
   "cell_type": "code",
   "execution_count": 13,
   "metadata": {},
   "outputs": [
    {
     "name": "stdout",
     "output_type": "stream",
     "text": [
      "{'atmosphere': {'ambiance',\n",
      "                'ambience',\n",
      "                'atmosphere',\n",
      "                'decor',\n",
      "                'decoration',\n",
      "                'décor'},\n",
      " 'food': {'breakfast',\n",
      "          'brunch',\n",
      "          'buffet',\n",
      "          'dinner',\n",
      "          'eat',\n",
      "          'food',\n",
      "          'lunch',\n",
      "          'meal',\n",
      "          'snack'},\n",
      " 'price': {'price', 'cost', 'pricing'},\n",
      " 'service': {'service'}}\n"
     ]
    }
   ],
   "source": [
    "from pprint import pprint\n",
    "pprint(res)"
   ]
  },
  {
   "cell_type": "code",
   "execution_count": null,
   "metadata": {},
   "outputs": [],
   "source": []
  }
 ],
 "metadata": {
  "kernelspec": {
   "display_name": "Python 3",
   "language": "python",
   "name": "python3"
  },
  "language_info": {
   "codemirror_mode": {
    "name": "ipython",
    "version": 3
   },
   "file_extension": ".py",
   "mimetype": "text/x-python",
   "name": "python",
   "nbconvert_exporter": "python",
   "pygments_lexer": "ipython3",
   "version": "3.6.7"
  }
 },
 "nbformat": 4,
 "nbformat_minor": 2
}
