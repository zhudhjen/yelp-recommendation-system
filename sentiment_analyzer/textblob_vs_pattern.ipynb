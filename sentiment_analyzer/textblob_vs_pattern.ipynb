{
 "cells": [
  {
   "cell_type": "code",
   "execution_count": 1,
   "metadata": {},
   "outputs": [],
   "source": [
    "from pattern.en import sentiment\n",
    "from textblob import TextBlob"
   ]
  },
  {
   "cell_type": "code",
   "execution_count": 2,
   "metadata": {},
   "outputs": [],
   "source": [
    "sents = [\n",
    "    'bad movie',\n",
    "    'not bad place',\n",
    "    'good staff',\n",
    "    'great atmosphere',\n",
    "    'decent price',\n",
    "    'low price'\n",
    "]"
   ]
  },
  {
   "cell_type": "code",
   "execution_count": 3,
   "metadata": {},
   "outputs": [
    {
     "name": "stdout",
     "output_type": "stream",
     "text": [
      "bad movie -0.6999999999999998\n",
      "not bad place 0.3499999999999999\n",
      "good staff 0.7\n",
      "great atmosphere 0.8\n",
      "decent price 0.16666666666666666\n",
      "low price 0.0\n"
     ]
    }
   ],
   "source": [
    "for sent in sents:\n",
    "    print(sent, sentiment(sent)[0])"
   ]
  },
  {
   "cell_type": "code",
   "execution_count": 4,
   "metadata": {},
   "outputs": [
    {
     "name": "stdout",
     "output_type": "stream",
     "text": [
      "bad movie -0.6999999999999998\n",
      "not bad place 0.3499999999999999\n",
      "good staff 0.7\n",
      "great atmosphere 0.8\n",
      "decent price 0.16666666666666666\n",
      "low price 0.0\n"
     ]
    }
   ],
   "source": [
    "for sent in sents:\n",
    "    print(sent, TextBlob(sent).sentiment.polarity)"
   ]
  },
  {
   "cell_type": "code",
   "execution_count": null,
   "metadata": {},
   "outputs": [],
   "source": []
  }
 ],
 "metadata": {
  "kernelspec": {
   "display_name": "Python 3",
   "language": "python",
   "name": "python3"
  },
  "language_info": {
   "codemirror_mode": {
    "name": "ipython",
    "version": 3
   },
   "file_extension": ".py",
   "mimetype": "text/x-python",
   "name": "python",
   "nbconvert_exporter": "python",
   "pygments_lexer": "ipython3",
   "version": "3.6.7"
  }
 },
 "nbformat": 4,
 "nbformat_minor": 2
}
