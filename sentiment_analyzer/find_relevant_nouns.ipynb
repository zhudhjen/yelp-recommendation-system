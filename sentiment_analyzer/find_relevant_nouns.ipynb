{
 "cells": [
  {
   "cell_type": "markdown",
   "metadata": {},
   "source": [
    "# Convert word to vector with spaCy"
   ]
  },
  {
   "cell_type": "code",
   "execution_count": 1,
   "metadata": {},
   "outputs": [],
   "source": [
    "# Load spaCy model\n",
    "import spacy\n",
    "nlp = spacy.load('en_core_web_lg')"
   ]
  },
  {
   "cell_type": "code",
   "execution_count": 2,
   "metadata": {},
   "outputs": [
    {
     "name": "stdout",
     "output_type": "stream",
     "text": [
      "2516\n"
     ]
    }
   ],
   "source": [
    "# Load nouns that appear at least 1000 times\n",
    "input_file = 'data/nouns_1000.txt'\n",
    "\n",
    "nouns = []\n",
    "with open(input_file, 'r') as f:\n",
    "    for line in f:\n",
    "        nouns.append(line[:-1])  # Remove newline\n",
    "print(len(nouns))"
   ]
  },
  {
   "cell_type": "code",
   "execution_count": 3,
   "metadata": {},
   "outputs": [],
   "source": [
    "# Use spaCy model to get tokens\n",
    "# Remove docs that have more than one token\n",
    "def get_tokens(nouns):\n",
    "    docs = [nlp(noun) for noun in nouns]\n",
    "    tokens = [doc[0] for doc in docs if len(doc) == 1]\n",
    "    return tokens"
   ]
  },
  {
   "cell_type": "code",
   "execution_count": 4,
   "metadata": {},
   "outputs": [
    {
     "name": "stdout",
     "output_type": "stream",
     "text": [
      "2514\n"
     ]
    }
   ],
   "source": [
    "tokens = get_tokens(nouns)\n",
    "print(len(tokens))"
   ]
  },
  {
   "cell_type": "code",
   "execution_count": 5,
   "metadata": {},
   "outputs": [
    {
     "name": "stdout",
     "output_type": "stream",
     "text": [
      "2509\n"
     ]
    }
   ],
   "source": [
    "# Get nouns that are in the vocabulary of the model\n",
    "inv_nouns = [token for token in tokens if not token.is_oov]\n",
    "print(len(inv_nouns))"
   ]
  },
  {
   "cell_type": "code",
   "execution_count": 6,
   "metadata": {},
   "outputs": [],
   "source": [
    "# Get vectors\n",
    "vectors = [noun.vector for noun in inv_nouns]"
   ]
  },
  {
   "cell_type": "markdown",
   "metadata": {},
   "source": [
    "# View words"
   ]
  },
  {
   "cell_type": "code",
   "execution_count": 7,
   "metadata": {},
   "outputs": [],
   "source": [
    "vectors_20 = vectors[:20]"
   ]
  },
  {
   "cell_type": "code",
   "execution_count": 8,
   "metadata": {},
   "outputs": [],
   "source": [
    "from sklearn.decomposition import PCA\n",
    "pca = PCA(n_components=2)\n",
    "pca.fit(vectors_20)\n",
    "vectors_20_2D = pca.transform(vectors_20)"
   ]
  },
  {
   "cell_type": "code",
   "execution_count": 10,
   "metadata": {},
   "outputs": [
    {
     "data": {
      "image/png": "[encoded data removed]",
      "text/plain": [
       "<Figure size 1440x720 with 1 Axes>"
      ]
     },
     "metadata": {
      "needs_background": "light"
     },
     "output_type": "display_data"
    }
   ],
   "source": [
    "import matplotlib.pyplot as plt\n",
    "\n",
    "plt.figure(figsize=(20,10))\n",
    "plt.scatter(vectors_20_2D[:,0], vectors_20_2D[:,1])\n",
    "\n",
    "for word, coord in zip(inv_nouns, vectors_20_2D):\n",
    "    x, y = coord\n",
    "    plt.text(x, y, word.text, size=12)\n",
    "\n",
    "plt.show()"
   ]
  },
  {
   "cell_type": "markdown",
   "metadata": {},
   "source": [
    "# Find relevant nouns"
   ]
  },
  {
   "cell_type": "code",
   "execution_count": 11,
   "metadata": {},
   "outputs": [],
   "source": [
    "def find_noun_object(nouns, text):\n",
    "    for noun in nouns:\n",
    "        if noun.text == text:\n",
    "            return noun\n",
    "\n",
    "# def find_relevant_nouns(nouns, initial_nouns, threshold):\n",
    "#     length_before = len(initial_nouns)\n",
    "#     for noun in nouns:\n",
    "#         for initial_noun in initial_nouns:\n",
    "#             if noun.similarity(initial_noun) >= threshold:\n",
    "#                 initial_nouns.add(noun)\n",
    "#                 break\n",
    "#     length_after = len(initial_nouns)\n",
    "    \n",
    "#     if length_before == length_after:\n",
    "#         return initial_nouns\n",
    "#     else:\n",
    "#         return find_relevant_nouns(nouns, initial_nouns, threshold)\n",
    "\n",
    "def find_relevant_nouns(nouns, initial_nouns, threshold):\n",
    "    open_set = initial_nouns\n",
    "    closed_set = set()\n",
    "\n",
    "    while open_set:\n",
    "        candidate = open_set.pop()\n",
    "        for noun in nouns:\n",
    "            if candidate.similarity(noun) >= threshold and noun not in closed_set:\n",
    "                open_set.add(noun)\n",
    "        closed_set.add(candidate)\n",
    "    \n",
    "    return closed_set\n",
    "\n",
    "def get_nouns_in_aspects(nouns, aspects, threshold):\n",
    "    aspects_dict = {}\n",
    "    for aspect in aspects:\n",
    "        obj = find_noun_object(nouns, aspect)\n",
    "        initial_nouns = {obj}\n",
    "        final_nouns = find_relevant_nouns(nouns, initial_nouns, threshold)\n",
    "        aspects_dict[aspect] = {noun.text for noun in final_nouns}\n",
    "    return aspects_dict"
   ]
  },
  {
   "cell_type": "code",
   "execution_count": 12,
   "metadata": {},
   "outputs": [
    {
     "name": "stdout",
     "output_type": "stream",
     "text": [
      "CPU times: user 49.8 s, sys: 805 ms, total: 50.6 s\n",
      "Wall time: 50 s\n"
     ]
    }
   ],
   "source": [
    "general_aspects = {\n",
    "    'Food': {'food', 'drink', 'restaurant'},\n",
    "    'Costs': {'price', 'value'},\n",
    "    'Service': {'service', 'staff', 'server', 'waiter'},\n",
    "    'Environment': {'atmosphere', 'environment'},\n",
    "    'Location': {'location', 'place'}\n",
    "}\n",
    "\n",
    "from functools import reduce\n",
    "aspects = reduce(lambda x, y: x.union(y), general_aspects.values())\n",
    "threshold = 0.7\n",
    "\n",
    "%time res = get_nouns_in_aspects(inv_nouns, aspects, threshold)"
   ]
  },
  {
   "cell_type": "code",
   "execution_count": 13,
   "metadata": {},
   "outputs": [
    {
     "name": "stdout",
     "output_type": "stream",
     "text": [
      "restaurant: {'peach', 'salmon', 'delicious', 'sweet', 'blue', 'sauce', 'kebab', 'curry', 'horseradish', 'cheese', 'fudge', 'guac', 'arugula', 'mozzarella', 'chowder', 'zucchini', 'sorbet', 'scallion', 'roast', 'oatmeal', 'restaurant', 'polenta', 'sugar', 'shrimp', 'clam', 'chocolate', 'asparagus', 'kimchi', 'brioche', 'pear', 'brie', 'cupcake', 'ceviche', 'pudding', 'flavour', 'cream', 'salami', 'shawarma', 'chimichanga', 'vinegar', 'tiramisu', 'seafood', 'banana', 'lasagna', 'citrus', 'syrup', 'risotto', 'mousse', 'yogurt', 'gnocchi', 'artichoke', 'bulgogi', 'coconut', 'jalapeños', 'creme', 'asada', 'watermelon', 'tamale', 'cucumber', 'lemon', 'carpaccio', 'juice', 'pan', 'bacon', 'chive', 'icecream', 'coleslaw', 'cider', 'soup', 'skillet', 'burgers', 'cookie', 'pepper', 'catfish', 'relleno', 'crispy', 'frosting', 'rye', 'flavor', 'sundae', 'kale', 'fries', 'pepperoni', 'taco', 'edamame', 'tasty', 'flavorful', 'lettuce', 'sashimi', 'hamburger', 'burger', 'ricotta', 'cauliflower', 'salad', 'toffee', 'fajita', 'marinara', 'veggie', 'butter', 'ravioli', 'crab', 'eatery', 'candy', 'mustard', 'orange', 'lobster', 'parmesan', 'tostada', 'jalapeno', 'bistro', 'cannoli', 'noodle', 'vegan', 'hollandaise', 'dessert', 'white', 'pizzeria', 'bruschetta', 'veal', 'grain', 'mango', 'green', 'quiche', 'chewy', 'omelet', 'bibimbap', 'quinoa', 'sourdough', 'sirloin', 'bread', 'choy', 'chile', 'pesto', 'pastry', 'filet', 'walnut', 'tenderloin', 'vanilla', 'lamb', 'confit', 'queso', 'gravy', 'spaghetti', 'broth', 'recipe', 'feta', 'dining', 'brisket', 'fish', 'custard', 'avocado', 'aioli', 'hummus', 'mayonnaise', 'tempura', 'celery', 'appetizer', 'carrot', 'sauerkraut', 'cornbread', 'falafel', 'lounge', 'udon', 'burrito', 'balsamic', 'cinnamon', 'macaroni', 'cheesecake', 'granola', 'croissant', 'pistachio', 'pink', 'wheat', 'eggplant', 'cereal', 'seasoning', 'vegetable', 'calamari', 'marinade', 'cherry', 'chipotle', 'raspberry', 'pineapple', 'cake', 'entrée', 'bagel', 'kalbi', 'garlic', 'cheeseburger', 'chorizo', 'tilapia', 'guacamole', 'oyster', 'cabbage', 'pita', 'pie', 'tuna', 'brown', 'café', 'strawberry', 'shortcake', 'sausage', 'chicken', 'turkey', 'hotdog', 'teriyaki', 'crawfish', 'steak', 'sweetness', 'broccoli', 'almond', 'gelato', 'flatbread', 'ramen', 'brownie', 'pork', 'tartare', 'loaf', 'prawn', 'pizza', 'tofu', 'sushi', 'potato', 'nigiri', 'puree', 'wasabi', 'dairy', 'smell', 'dish', 'ginger', 'prosciutto', 'jalapeño', 'scone', 'squash', 'corn', 'rice', 'icing', 'muffin', 'tacos', 'spiciness', 'casserole', 'ribeye', 'cranberry', 'pecan', 'spicy', 'vinaigrette', 'enchilada', 'ham', 'curd', 'cheddar', 'peanut', 'kabob', 'quesadilla', 'entree', 'radish', 'cafe', 'flour', 'aroma', 'miso', 'milk', 'basil', 'scent', 'nachos', 'grape', 'stew', 'fillet', 'masala', 'meatloaf', 'savory', 'fruit', 'omelette', 'odor', 'oxtail', 'mackerel', 'blueberry', 'tomato', 'tortilla', 'black', 'ziti', 'meat', 'sandwhich', 'pasta', 'red', 'halibut', 'crust', 'tzatziki', 'taste', 'mayo', 'vegetarian', 'alfredo', 'onion', 'penne', 'sandwich', 'lime', 'flavoring', 'trout', 'slaw', 'dough', 'okra', 'beef', 'olive', 'caramel', 'chilli', 'chili', 'cuisine', 'salt', 'smoothie', 'mignon', 'cilantro', 'berry', 'spinach', 'ketchup', 'gumbo', 'milkshake', 'veg'}\n",
      "server: {'server'}\n",
      "value: {'value'}\n",
      "waiter: {'waitstaff', 'waitress', 'waiter', 'bartender'}\n",
      "staff: {'staff', 'personnel'}\n",
      "atmosphere: {'ambience', 'decoration', 'atmosphere', 'ambiance', 'decor', 'décor'}\n",
      "service: {'service'}\n",
      "location: {'location'}\n",
      "price: {'pricing', 'cost', 'price'}\n",
      "place: {'place'}\n",
      "environment: {'environment'}\n",
      "food: {'buffet', 'lunch', 'eat', 'eating', 'dinner', 'meal', 'brunch', 'food', 'snack', 'breakfast'}\n",
      "drink: {'drinking', 'drinks', 'brewery', 'beverage', 'beer', 'drink', 'ale', 'brew'}\n"
     ]
    }
   ],
   "source": [
    "size_before_merge = 0\n",
    "for key, value in res.items():\n",
    "    print(key + ': ', end='')\n",
    "    print(value)\n",
    "    size_before_merge += len(value)"
   ]
  },
  {
   "cell_type": "code",
   "execution_count": 14,
   "metadata": {},
   "outputs": [
    {
     "name": "stdout",
     "output_type": "stream",
     "text": [
      "Size before merge: 354\n",
      "Size after merge: 354\n"
     ]
    }
   ],
   "source": [
    "relevant_nouns = set()\n",
    "for s in res.values():\n",
    "    relevant_nouns = relevant_nouns.union(s)\n",
    "print('Size before merge:', size_before_merge)\n",
    "print('Size after merge:', len(relevant_nouns))"
   ]
  },
  {
   "cell_type": "code",
   "execution_count": 15,
   "metadata": {},
   "outputs": [],
   "source": [
    "reverse_general_aspects = dict()\n",
    "for key, values in general_aspects.items():\n",
    "    for value in values:\n",
    "        reverse_general_aspects[value] = key\n",
    "\n",
    "relevant_nouns_to_aspect = dict()\n",
    "for key, values in res.items():\n",
    "    for value in values:\n",
    "        relevant_nouns_to_aspect[value] = reverse_general_aspects[key]\n",
    "\n",
    "import json\n",
    "with open('data/relevant_nouns_to_aspect.json', 'w') as f:\n",
    "    json.dump(relevant_nouns_to_aspect, f, indent=2)"
   ]
  },
  {
   "cell_type": "code",
   "execution_count": 16,
   "metadata": {},
   "outputs": [
    {
     "name": "stdout",
     "output_type": "stream",
     "text": [
      "Total count for all nouns: 38084467\n",
      "Total count for all relevant nouns: 12256514\n",
      "0.32182448555732707\n"
     ]
    }
   ],
   "source": [
    "nouns_count_file = 'data/nouns_count.txt'\n",
    "nouns_count = dict()\n",
    "with open(nouns_count_file, 'r') as f:\n",
    "    for line in f:\n",
    "        noun, count = line.split('  ')  # two spaces\n",
    "        count = int(count)\n",
    "        \n",
    "        if noun != '-PRON-':\n",
    "            nouns_count[noun] = count\n",
    "sum_of_all_nouns = sum(nouns_count.values())\n",
    "\n",
    "relevant_nouns_count = [value for key, value in nouns_count.items() if key in relevant_nouns]\n",
    "sum_of_relevant_nouns = sum(relevant_nouns_count)\n",
    "\n",
    "print('Total count for all nouns:', sum_of_all_nouns)\n",
    "print('Total count for all relevant nouns:', sum_of_relevant_nouns)\n",
    "print(sum_of_relevant_nouns/sum_of_all_nouns)"
   ]
  }
 ],
 "metadata": {
  "kernelspec": {
   "display_name": "Python 3",
   "language": "python",
   "name": "python3"
  },
  "language_info": {
   "codemirror_mode": {
    "name": "ipython",
    "version": 3
   },
   "file_extension": ".py",
   "mimetype": "text/x-python",
   "name": "python",
   "nbconvert_exporter": "python",
   "pygments_lexer": "ipython3",
   "version": "3.6.7"
  }
 },
 "nbformat": 4,
 "nbformat_minor": 2
}
