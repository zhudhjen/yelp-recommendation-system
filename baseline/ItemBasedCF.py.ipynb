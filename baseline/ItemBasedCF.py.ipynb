{
 "cells": [
  {
   "cell_type": "code",
   "execution_count": 146,
   "metadata": {},
   "outputs": [],
   "source": [
    "import pandas as pd\n",
    "import numpy as np\n",
    "import math"
   ]
  },
  {
   "cell_type": "code",
   "execution_count": 211,
   "metadata": {},
   "outputs": [],
   "source": [
    "Train_ratings=pd.read_csv(\"train_data.csv\",encoding=\"ISO-8859-1\")\n",
    "Test_ratings = pd.read_csv(\"test_data.csv\",encoding=\"ISO-8859-1\")"
   ]
  },
  {
   "cell_type": "code",
   "execution_count": 212,
   "metadata": {},
   "outputs": [
    {
     "name": "stdout",
     "output_type": "stream",
     "text": [
      "                   userID              businessID  rate\n",
      "0  ---1lKK3aKOuomHnwAkAow  -ErwgUmZ1-jHW_rSu55jlg   5.0\n",
      "1  ---1lKK3aKOuomHnwAkAow  1JgaRBX0oiRsvEhHF3ZMjw   1.0\n",
      "2  ---1lKK3aKOuomHnwAkAow  2BbFeotL85cIaBjSq1SWiA   1.0\n",
      "3  ---1lKK3aKOuomHnwAkAow  5cbsjFtrntUAeUx51FaFTg   1.0\n",
      "4  ---1lKK3aKOuomHnwAkAow  5rxJpTkeJa5rxMvL2NbSnQ   5.0\n",
      "5  ---1lKK3aKOuomHnwAkAow  78TC3sZSYBzBsSJ0z5pyhw   1.0\n",
      "6  ---1lKK3aKOuomHnwAkAow  Gaasy9YbPGVc8KcXcAIqEw   5.0\n",
      "7  ---1lKK3aKOuomHnwAkAow  HZdtHOEaKUL2SlWj5owgCA   5.0\n",
      "8  ---1lKK3aKOuomHnwAkAow  OnnvNs2JJ-B2xbwHEHbWDw   5.0\n",
      "9  ---1lKK3aKOuomHnwAkAow  PT9BRvRWx9kpcu02VouW1g   2.0\n",
      "                   userID              businessID  rate\n",
      "0  ---1lKK3aKOuomHnwAkAow  Qy_tDaVTWlS14fEglzo1Tg     4\n",
      "1  ---1lKK3aKOuomHnwAkAow  bzPrrbDHRxstf9FSPw1Xjw     5\n",
      "2  ---1lKK3aKOuomHnwAkAow  hk4NPN6W2xt30Cp-Fiqtuw     4\n",
      "3  ---1lKK3aKOuomHnwAkAow  rq5dgoksPHkJwJNQKlGQ7w     5\n",
      "4  ---1lKK3aKOuomHnwAkAow  ttH3ZbUcncBRIXqT-YVPCg     5\n",
      "5  --CIuK7sUpaNzalLAlHJKA  sk0stgY4NDJYOX1MbNJ3Pg     2\n",
      "6  --EMqnd727rtC0G5Oc-Mrg  b_XIKJ2nNzksuWhfMTEehQ     5\n",
      "7  --FjmST55XwJ710qYlUTxA  pkXJEEaWcljXgAUd7cGzIA     1\n",
      "8  --HCoE1ghaAlcaAfshICgw  caUPXiOxvLGMsorJBtNlhg     5\n",
      "9  --IJ1MaFBp4bLFJ1xkofPw  ahSFUPojs9X3-1jP-QPb-w     5\n"
     ]
    }
   ],
   "source": [
    "print(Train_ratings.head(10))\n",
    "print(Test_ratings.head(10))"
   ]
  },
  {
   "cell_type": "code",
   "execution_count": 214,
   "metadata": {},
   "outputs": [],
   "source": [
    "Busin_mean= Train_ratings.groupby(['businessID'], as_index = False, sort = False).mean().rename(columns = {'rate': 'rating_mean'})[['businessID','rating_mean']]\n"
   ]
  },
  {
   "cell_type": "code",
   "execution_count": 215,
   "metadata": {},
   "outputs": [],
   "source": [
    "User_mean =  Train_ratings.groupby(['userID'], as_index = False, sort = False).mean().rename(columns = {'rate': 'rating_mean'})[['userID','rating_mean']]"
   ]
  },
  {
   "cell_type": "code",
   "execution_count": 216,
   "metadata": {},
   "outputs": [
    {
     "name": "stdout",
     "output_type": "stream",
     "text": [
      "                   userID              businessID  rate\n",
      "0  ---1lKK3aKOuomHnwAkAow  -ErwgUmZ1-jHW_rSu55jlg   5.0\n",
      "1  ---1lKK3aKOuomHnwAkAow  1JgaRBX0oiRsvEhHF3ZMjw   1.0\n",
      "2  ---1lKK3aKOuomHnwAkAow  2BbFeotL85cIaBjSq1SWiA   1.0\n",
      "3  ---1lKK3aKOuomHnwAkAow  5cbsjFtrntUAeUx51FaFTg   1.0\n",
      "4  ---1lKK3aKOuomHnwAkAow  5rxJpTkeJa5rxMvL2NbSnQ   5.0\n",
      "5  ---1lKK3aKOuomHnwAkAow  78TC3sZSYBzBsSJ0z5pyhw   1.0\n",
      "6  ---1lKK3aKOuomHnwAkAow  Gaasy9YbPGVc8KcXcAIqEw   5.0\n",
      "7  ---1lKK3aKOuomHnwAkAow  HZdtHOEaKUL2SlWj5owgCA   5.0\n",
      "8  ---1lKK3aKOuomHnwAkAow  OnnvNs2JJ-B2xbwHEHbWDw   5.0\n",
      "9  ---1lKK3aKOuomHnwAkAow  PT9BRvRWx9kpcu02VouW1g   2.0\n"
     ]
    }
   ],
   "source": [
    "train_data = Train_ratings\n",
    "print(train_data.head(10))"
   ]
  },
  {
   "cell_type": "code",
   "execution_count": 219,
   "metadata": {},
   "outputs": [
    {
     "name": "stdout",
     "output_type": "stream",
     "text": [
      "162851\n"
     ]
    }
   ],
   "source": [
    "distinct_train_busin=np.unique(train_data['businessID'])\n",
    "distinct_train_busin.sort()\n",
    "print(len(distinct_train_busin))"
   ]
  },
  {
   "cell_type": "code",
   "execution_count": 221,
   "metadata": {},
   "outputs": [
    {
     "ename": "KeyboardInterrupt",
     "evalue": "",
     "output_type": "error",
     "traceback": [
      "\u001b[0;31m---------------------------------------------------------------------------\u001b[0m",
      "\u001b[0;31mKeyboardInterrupt\u001b[0m                         Traceback (most recent call last)",
      "\u001b[0;32m<ipython-input-221-3ea1364c8b6b>\u001b[0m in \u001b[0;36m<module>\u001b[0;34m\u001b[0m\n\u001b[1;32m      9\u001b[0m         \u001b[0;32mif\u001b[0m \u001b[0mbusi1\u001b[0m \u001b[0;34m>=\u001b[0m \u001b[0mbusi2\u001b[0m\u001b[0;34m:\u001b[0m\u001b[0;34m\u001b[0m\u001b[0m\n\u001b[1;32m     10\u001b[0m             \u001b[0;32mcontinue\u001b[0m\u001b[0;34m\u001b[0m\u001b[0m\n\u001b[0;32m---> 11\u001b[0;31m         \u001b[0mbusi_data2\u001b[0m \u001b[0;34m=\u001b[0m \u001b[0mtrain_data\u001b[0m\u001b[0;34m[\u001b[0m\u001b[0mtrain_data\u001b[0m\u001b[0;34m[\u001b[0m\u001b[0;34m\"businessID\"\u001b[0m\u001b[0;34m]\u001b[0m \u001b[0;34m==\u001b[0m \u001b[0mbusi2\u001b[0m\u001b[0;34m]\u001b[0m\u001b[0;34m\u001b[0m\u001b[0m\n\u001b[0m\u001b[1;32m     12\u001b[0m         \u001b[0mbusi_data2\u001b[0m \u001b[0;34m=\u001b[0m \u001b[0mbusi_data2\u001b[0m\u001b[0;34m[\u001b[0m\u001b[0;34m[\u001b[0m\u001b[0;34m'userID'\u001b[0m\u001b[0;34m,\u001b[0m\u001b[0;34m'businessID'\u001b[0m\u001b[0;34m,\u001b[0m\u001b[0;34m'rate'\u001b[0m\u001b[0;34m]\u001b[0m\u001b[0;34m]\u001b[0m\u001b[0;34m.\u001b[0m\u001b[0mdrop_duplicates\u001b[0m\u001b[0;34m(\u001b[0m\u001b[0;34m)\u001b[0m\u001b[0;34m\u001b[0m\u001b[0m\n\u001b[1;32m     13\u001b[0m         \u001b[0mbusi_data2\u001b[0m\u001b[0;34m=\u001b[0m\u001b[0mbusi_data2\u001b[0m\u001b[0;34m.\u001b[0m\u001b[0mrename\u001b[0m\u001b[0;34m(\u001b[0m\u001b[0mcolumns\u001b[0m\u001b[0;34m=\u001b[0m\u001b[0;34m{\u001b[0m\u001b[0;34m'rate'\u001b[0m\u001b[0;34m:\u001b[0m\u001b[0;34m'rate2'\u001b[0m\u001b[0;34m}\u001b[0m\u001b[0;34m)\u001b[0m\u001b[0;34m\u001b[0m\u001b[0m\n",
      "\u001b[0;32m~/miniconda3/envs/rec_sys/lib/python3.6/site-packages/pandas/core/ops.py\u001b[0m in \u001b[0;36mwrapper\u001b[0;34m(self, other, axis)\u001b[0m\n\u001b[1;32m   1281\u001b[0m \u001b[0;34m\u001b[0m\u001b[0m\n\u001b[1;32m   1282\u001b[0m             \u001b[0;32mwith\u001b[0m \u001b[0mnp\u001b[0m\u001b[0;34m.\u001b[0m\u001b[0merrstate\u001b[0m\u001b[0;34m(\u001b[0m\u001b[0mall\u001b[0m\u001b[0;34m=\u001b[0m\u001b[0;34m'ignore'\u001b[0m\u001b[0;34m)\u001b[0m\u001b[0;34m:\u001b[0m\u001b[0;34m\u001b[0m\u001b[0m\n\u001b[0;32m-> 1283\u001b[0;31m                 \u001b[0mres\u001b[0m \u001b[0;34m=\u001b[0m \u001b[0mna_op\u001b[0m\u001b[0;34m(\u001b[0m\u001b[0mvalues\u001b[0m\u001b[0;34m,\u001b[0m \u001b[0mother\u001b[0m\u001b[0;34m)\u001b[0m\u001b[0;34m\u001b[0m\u001b[0m\n\u001b[0m\u001b[1;32m   1284\u001b[0m             \u001b[0;32mif\u001b[0m \u001b[0mis_scalar\u001b[0m\u001b[0;34m(\u001b[0m\u001b[0mres\u001b[0m\u001b[0;34m)\u001b[0m\u001b[0;34m:\u001b[0m\u001b[0;34m\u001b[0m\u001b[0m\n\u001b[1;32m   1285\u001b[0m                 raise TypeError('Could not compare {typ} type with Series'\n",
      "\u001b[0;32m~/miniconda3/envs/rec_sys/lib/python3.6/site-packages/pandas/core/ops.py\u001b[0m in \u001b[0;36mna_op\u001b[0;34m(x, y)\u001b[0m\n\u001b[1;32m   1141\u001b[0m \u001b[0;34m\u001b[0m\u001b[0m\n\u001b[1;32m   1142\u001b[0m         \u001b[0;32melif\u001b[0m \u001b[0mis_object_dtype\u001b[0m\u001b[0;34m(\u001b[0m\u001b[0mx\u001b[0m\u001b[0;34m.\u001b[0m\u001b[0mdtype\u001b[0m\u001b[0;34m)\u001b[0m\u001b[0;34m:\u001b[0m\u001b[0;34m\u001b[0m\u001b[0m\n\u001b[0;32m-> 1143\u001b[0;31m             \u001b[0mresult\u001b[0m \u001b[0;34m=\u001b[0m \u001b[0m_comp_method_OBJECT_ARRAY\u001b[0m\u001b[0;34m(\u001b[0m\u001b[0mop\u001b[0m\u001b[0;34m,\u001b[0m \u001b[0mx\u001b[0m\u001b[0;34m,\u001b[0m \u001b[0my\u001b[0m\u001b[0;34m)\u001b[0m\u001b[0;34m\u001b[0m\u001b[0m\n\u001b[0m\u001b[1;32m   1144\u001b[0m \u001b[0;34m\u001b[0m\u001b[0m\n\u001b[1;32m   1145\u001b[0m         \u001b[0;32melif\u001b[0m \u001b[0mis_datetimelike_v_numeric\u001b[0m\u001b[0;34m(\u001b[0m\u001b[0mx\u001b[0m\u001b[0;34m,\u001b[0m \u001b[0my\u001b[0m\u001b[0;34m)\u001b[0m\u001b[0;34m:\u001b[0m\u001b[0;34m\u001b[0m\u001b[0m\n",
      "\u001b[0;32m~/miniconda3/envs/rec_sys/lib/python3.6/site-packages/pandas/core/ops.py\u001b[0m in \u001b[0;36m_comp_method_OBJECT_ARRAY\u001b[0;34m(op, x, y)\u001b[0m\n\u001b[1;32m   1120\u001b[0m         \u001b[0mresult\u001b[0m \u001b[0;34m=\u001b[0m \u001b[0mlibops\u001b[0m\u001b[0;34m.\u001b[0m\u001b[0mvec_compare\u001b[0m\u001b[0;34m(\u001b[0m\u001b[0mx\u001b[0m\u001b[0;34m,\u001b[0m \u001b[0my\u001b[0m\u001b[0;34m,\u001b[0m \u001b[0mop\u001b[0m\u001b[0;34m)\u001b[0m\u001b[0;34m\u001b[0m\u001b[0m\n\u001b[1;32m   1121\u001b[0m     \u001b[0;32melse\u001b[0m\u001b[0;34m:\u001b[0m\u001b[0;34m\u001b[0m\u001b[0m\n\u001b[0;32m-> 1122\u001b[0;31m         \u001b[0mresult\u001b[0m \u001b[0;34m=\u001b[0m \u001b[0mlibops\u001b[0m\u001b[0;34m.\u001b[0m\u001b[0mscalar_compare\u001b[0m\u001b[0;34m(\u001b[0m\u001b[0mx\u001b[0m\u001b[0;34m,\u001b[0m \u001b[0my\u001b[0m\u001b[0;34m,\u001b[0m \u001b[0mop\u001b[0m\u001b[0;34m)\u001b[0m\u001b[0;34m\u001b[0m\u001b[0m\n\u001b[0m\u001b[1;32m   1123\u001b[0m     \u001b[0;32mreturn\u001b[0m \u001b[0mresult\u001b[0m\u001b[0;34m\u001b[0m\u001b[0m\n\u001b[1;32m   1124\u001b[0m \u001b[0;34m\u001b[0m\u001b[0m\n",
      "\u001b[0;31mKeyboardInterrupt\u001b[0m: "
     ]
    }
   ],
   "source": [
    "busin_sim = pd.DataFrame()\n",
    "for busi1 in distinct_train_busin:\n",
    "    busi_data1 = train_data[train_data[\"businessID\"] == busi1]\n",
    "    busi_data1 = busi_data1[['userID','businessID','rate']].drop_duplicates()\n",
    "    busi_data1=busi_data1.rename(columns={'rate':'rate1'})\n",
    "    busi_data1=busi_data1.rename(columns={'businessID':'businessID1'})\n",
    "   \n",
    "    for busi2 in distinct_train_busin:\n",
    "        if busi1 >= busi2:\n",
    "            continue\n",
    "        busi_data2 = train_data[train_data[\"businessID\"] == busi2]\n",
    "        busi_data2 = busi_data2[['userID','businessID','rate']].drop_duplicates()\n",
    "        busi_data2=busi_data2.rename(columns={'rate':'rate2'})\n",
    "        busi_data2=busi_data2.rename(columns={'businessID':'businessID2'})\n",
    "        \n",
    "        busin_data_merge = pd.merge(busi_data1,busi_data2[['userID','businessID2','rate2']],on = 'userID', how = 'inner', sort = False)\n",
    "        if len(busin_data_merge) == 0:\n",
    "            continue;\n",
    "        rate1_mean = busin_data_merge[\"rate1\"].mean()\n",
    "        rate2_mean = busin_data_merge[\"rate2\"].mean()\n",
    "        busin_data_merge[\"rate1\"] = busin_data_merge[\"rate1\"] - rate1_mean\n",
    "        busin_data_merge[\"rate2\"] = busin_data_merge[\"rate2\"] - rate2_mean\n",
    "\n",
    "        busi_val=np.sqrt(np.sum(np.square(busin_data_merge['rate1']), axis=0))\n",
    "        busi_val2=np.sqrt(np.sum(np.square(busin_data_merge['rate2']), axis=0))\n",
    "        busin_data_merge['vector_product']=(busin_data_merge['rate1']*busin_data_merge['rate2'])\n",
    "        busin_data_merge= busin_data_merge.groupby(['businessID1','businessID2'], as_index = False, sort = False).sum()\n",
    "        \n",
    "        if (busi_val*busi_val2) == np.float64(0.0):\n",
    "            busin_data_merge['dot'] = np.float64(0.0)\n",
    "        else:\n",
    "            busin_data_merge['dot']=busin_data_merge['vector_product']/(busi_val*busi2_val)\n",
    "        busin_sim = busin_sim.append(busin_data_merge, ignore_index=True)\n",
    "busin_sim =  busin_sim[busin_sim['dot']!=0]\n"
   ]
  },
  {
   "cell_type": "code",
   "execution_count": 201,
   "metadata": {},
   "outputs": [
    {
     "data": {
      "text/plain": [
       "array([2, 3, 4, 7])"
      ]
     },
     "execution_count": 201,
     "metadata": {},
     "output_type": "execute_result"
    }
   ],
   "source": [
    "distinct_test_busin = np.unique(Test_ratings['businessID'])\n",
    "distinct_test_busin"
   ]
  },
  {
   "cell_type": "code",
   "execution_count": 209,
   "metadata": {},
   "outputs": [
    {
     "name": "stdout",
     "output_type": "stream",
     "text": [
      "2, 2\n",
      "   userID  businessID      rate\n",
      "7       2           2 -1.721225\n",
      "5, 2\n"
     ]
    },
    {
     "name": "stderr",
     "output_type": "stream",
     "text": [
      "/Users/dwj/miniconda3/envs/rec_sys/lib/python3.6/site-packages/ipykernel_launcher.py:38: SettingWithCopyWarning: \n",
      "A value is trying to be set on a copy of a slice from a DataFrame.\n",
      "Try using .loc[row_indexer,col_indexer] = value instead\n",
      "\n",
      "See the caveats in the documentation: http://pandas.pydata.org/pandas-docs/stable/indexing.html#indexing-view-versus-copy\n",
      "/Users/dwj/miniconda3/envs/rec_sys/lib/python3.6/site-packages/ipykernel_launcher.py:39: SettingWithCopyWarning: \n",
      "A value is trying to be set on a copy of a slice from a DataFrame.\n",
      "Try using .loc[row_indexer,col_indexer] = value instead\n",
      "\n",
      "See the caveats in the documentation: http://pandas.pydata.org/pandas-docs/stable/indexing.html#indexing-view-versus-copy\n",
      "/Users/dwj/miniconda3/envs/rec_sys/lib/python3.6/site-packages/ipykernel_launcher.py:62: SettingWithCopyWarning: \n",
      "A value is trying to be set on a copy of a slice from a DataFrame.\n",
      "Try using .loc[row_indexer,col_indexer] = value instead\n",
      "\n",
      "See the caveats in the documentation: http://pandas.pydata.org/pandas-docs/stable/indexing.html#indexing-view-versus-copy\n"
     ]
    },
    {
     "name": "stdout",
     "output_type": "stream",
     "text": [
      "   userID  businessID      rate\n",
      "8       5           2  2.930097\n",
      "13, 3\n",
      "1    3.0\n",
      "Name: rating_mean, dtype: float64\n",
      "1    3.0\n",
      "Name: rating_mean, dtype: float64\n",
      "1, 4\n",
      "   userID  businessID      rate\n",
      "0       1           4 -1.498136\n",
      "4, 4\n"
     ]
    },
    {
     "name": "stderr",
     "output_type": "stream",
     "text": [
      "/Users/dwj/miniconda3/envs/rec_sys/lib/python3.6/site-packages/ipykernel_launcher.py:22: SettingWithCopyWarning: \n",
      "A value is trying to be set on a copy of a slice from a DataFrame.\n",
      "Try using .loc[row_indexer,col_indexer] = value instead\n",
      "\n",
      "See the caveats in the documentation: http://pandas.pydata.org/pandas-docs/stable/indexing.html#indexing-view-versus-copy\n",
      "/Users/dwj/miniconda3/envs/rec_sys/lib/python3.6/site-packages/ipykernel_launcher.py:31: SettingWithCopyWarning: \n",
      "A value is trying to be set on a copy of a slice from a DataFrame.\n",
      "Try using .loc[row_indexer,col_indexer] = value instead\n",
      "\n",
      "See the caveats in the documentation: http://pandas.pydata.org/pandas-docs/stable/indexing.html#indexing-view-versus-copy\n",
      "/Users/dwj/miniconda3/envs/rec_sys/lib/python3.6/site-packages/ipykernel_launcher.py:32: SettingWithCopyWarning: \n",
      "A value is trying to be set on a copy of a slice from a DataFrame.\n",
      "Try using .loc[row_indexer,col_indexer] = value instead\n",
      "\n",
      "See the caveats in the documentation: http://pandas.pydata.org/pandas-docs/stable/indexing.html#indexing-view-versus-copy\n"
     ]
    },
    {
     "name": "stdout",
     "output_type": "stream",
     "text": [
      "   userID  businessID      rate\n",
      "1       4           4  1.512085\n",
      "6, 4\n",
      "   userID  businessID      rate\n",
      "2       6           4 -1.347537\n",
      "7, 4\n",
      "   userID  businessID    rate\n",
      "3       7           4 -0.3451\n",
      "9, 4\n",
      "   userID  businessID      rate\n",
      "4       9           4 -4.379271\n",
      "10, 4\n",
      "   userID  businessID      rate\n",
      "5      10           4 -1.103643\n",
      "12, 4\n",
      "   userID  businessID      rate\n",
      "6      12           4  4.043561\n",
      "9, 7\n",
      "13, 7\n",
      "Series([], Name: rating_mean, dtype: float64)\n",
      "    userID  businessID      rate\n",
      "7        2           2 -1.721225\n",
      "8        5           2  2.930097\n",
      "9       13           3       NaN\n",
      "0        1           4 -1.498136\n",
      "1        4           4  1.512085\n",
      "2        6           4 -1.347537\n",
      "3        7           4 -0.345100\n",
      "4        9           4 -4.379271\n",
      "5       10           4 -1.103643\n",
      "6       12           4  4.043561\n",
      "10       9           7       NaN\n",
      "11      13           7  5.000000\n"
     ]
    },
    {
     "name": "stderr",
     "output_type": "stream",
     "text": [
      "/Users/dwj/miniconda3/envs/rec_sys/lib/python3.6/site-packages/ipykernel_launcher.py:46: SettingWithCopyWarning: \n",
      "A value is trying to be set on a copy of a slice from a DataFrame.\n",
      "Try using .loc[row_indexer,col_indexer] = value instead\n",
      "\n",
      "See the caveats in the documentation: http://pandas.pydata.org/pandas-docs/stable/indexing.html#indexing-view-versus-copy\n"
     ]
    }
   ],
   "source": [
    "predicted = pd.DataFrame()\n",
    "for test_busin in distinct_test_busin:\n",
    "    test_data = Test_ratings[Test_ratings[\"businessID\"] == test_busin]\n",
    "    distinct_test_users = np.unique(test_data['userID'])\n",
    "    test_busin_sim = busin_sim[(busin_sim[\"businessID1\"] == test_busin)]\n",
    "    test_busin_sim2 = busin_sim[(busin_sim[\"businessID2\"] == test_busin)]\n",
    "    test_busin_sim = test_busin_sim.append(test_busin_sim2)\n",
    "    for test_user in distinct_test_users:\n",
    "        print(str(test_user) + \", \" + str(test_busin))\n",
    "        test_user_busi_rate = Test_ratings[(Test_ratings[\"userID\"] == test_user) & (Test_ratings[\"businessID\"] == test_busin)]\n",
    "        \n",
    "        train_data_of_test_user = train_data[train_data[\"userID\"] == test_user]\n",
    "        if len(train_data_of_test_user) == 0:\n",
    "            busin_mean = Busin_mean[Busin_mean[\"businessID\"] == test_busin]\n",
    "            print(busin_mean[\"rating_mean\"])\n",
    "            if len(busin_mean) == 0:\n",
    "                predicted = predicted.append(test_user_busi_rate)\n",
    "                continue\n",
    "            else:\n",
    "                new_rate = busin_mean[\"rating_mean\"]\n",
    "                print(new_rate)\n",
    "                test_user_busi_rate[\"rate\"] = new_rate\n",
    "                predicted = predicted.append(test_user_busi_rate)\n",
    "                continue\n",
    "        other_busin_rated_by_user = np.unique(train_data_of_test_user[\"businessID\"])\n",
    "        test_user_busi_sim = pd.DataFrame()\n",
    "        for other_busin in other_busin_rated_by_user:\n",
    "            if other_busin < test_busin:\n",
    "                this_couple = test_busin_sim[(test_busin_sim[\"businessID1\"] == other_busin) & (test_busin_sim[\"businessID2\"] == test_busin)]\n",
    "                if len(this_couple) > 0:\n",
    "                    this_couple[\"target\"] = test_busin\n",
    "                    this_couple[\"businessID\"] = other_busin\n",
    "                    this_couple = this_couple[[\"target\",\"businessID\",\"dot\"]]\n",
    "                    test_user_busi_sim = test_user_busi_sim.append(this_couple)\n",
    "            elif other_busin > test_busin:\n",
    "                this_couple = test_busin_sim[(test_busin_sim[\"businessID1\"] == test_busin) & (test_busin_sim[\"businessID2\"] == other_busin)]\n",
    "                if len(this_couple) > 0:\n",
    "                    this_couple[\"target\"] = test_busin\n",
    "                    this_couple[\"businessID\"] = other_busin\n",
    "                    this_couple = this_couple[[\"target\",\"businessID\",\"dot\"]]\n",
    "                    test_user_busi_sim = test_user_busi_sim.append(this_couple)\n",
    "        \n",
    "        k=3\n",
    "        if len(test_user_busi_sim) == 0:\n",
    "            new_rate = User_mean[User_mean[\"userID\"] == test_user][\"rating_mean\"]\n",
    "            test_user_busi_rate[\"rate\"] = new_rate\n",
    "            predicted = predicted.append(test_user_busi_rate)\n",
    "            continue\n",
    "        else:\n",
    "            k = min(k,len(test_user_busi_sim))\n",
    "            test_user_busi_sim = test_user_busi_sim.sort_values(['dot'], ascending=False)\n",
    "            test_user_busi_sim = test_user_busi_sim.head(k)\n",
    "            combine_data = test_user_busi_sim.merge(train_data_of_test_user,on = 'businessID', how = 'left', sort = False)\n",
    "            combine_data[\"predicted_rate\"] = (combine_data[\"dot\"] * combine_data[\"rate\"])\n",
    "            combine_data['dot_abs']=combine_data['dot'].abs()\n",
    "\n",
    "            combine_data = combine_data[['target','predicted_rate','dot_abs']]\n",
    "            \n",
    "            combine_data = combine_data.groupby(['target'], as_index = False, sort = False).sum()\n",
    "            combine_data[\"rate\"] = combine_data[\"predicted_rate\"]/combine_data[\"dot_abs\"]\n",
    "            new_rate = combine_data[\"rate\"][0]\n",
    "            test_user_busi_rate[\"rate\"] = new_rate\n",
    "            print(test_user_busi_rate)\n",
    "            predicted = predicted.append(test_user_busi_rate)\n",
    "print(predicted)\n",
    "\n",
    "            "
   ]
  },
  {
   "cell_type": "code",
   "execution_count": 210,
   "metadata": {},
   "outputs": [
    {
     "name": "stdout",
     "output_type": "stream",
     "text": [
      "1.1692806291070255\n"
     ]
    }
   ],
   "source": [
    "predict_truth = Test_ratings.merge(predicted, on = ('userID','businessID'), how = 'left', sort = False)\n",
    "predict_truth['MSE'] = (predict_truth['rate_x'] - predict_truth['rate_y'])*(predict_truth['rate_x'] - predict_truth['rate_y'])\n",
    "RMSE =np.sqrt(np.sum(predict_truth['MSE'])) / len(predict_truth)\n",
    "print(RMSE)\n"
   ]
  }
 ],
 "metadata": {
  "kernelspec": {
   "display_name": "Python 3",
   "language": "python",
   "name": "python3"
  },
  "language_info": {
   "codemirror_mode": {
    "name": "ipython",
    "version": 3
   },
   "file_extension": ".py",
   "mimetype": "text/x-python",
   "name": "python",
   "nbconvert_exporter": "python",
   "pygments_lexer": "ipython3",
   "version": "3.6.6"
  }
 },
 "nbformat": 4,
 "nbformat_minor": 2
}
