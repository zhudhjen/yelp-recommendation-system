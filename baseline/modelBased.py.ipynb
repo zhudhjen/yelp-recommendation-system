{
 "cells": [
  {
   "cell_type": "code",
   "execution_count": 9,
   "metadata": {},
   "outputs": [],
   "source": [
    "from pyspark.mllib.recommendation import ALS, MatrixFactorizationModel, Rating\n",
    "from pyspark import SparkConf,SparkContext\n",
    "from pyspark.sql import SQLContext\n",
    "import math"
   ]
  },
  {
   "cell_type": "code",
   "execution_count": 2,
   "metadata": {},
   "outputs": [],
   "source": [
    "conf = SparkConf().setAppName(\"modelBased\")\n",
    "sc = SparkContext(conf = conf)"
   ]
  },
  {
   "cell_type": "code",
   "execution_count": 3,
   "metadata": {},
   "outputs": [],
   "source": [
    "# Load and parse the data\n",
    "train_data = sc.textFile(\"train_data.txt\")\n",
    "train_rdd = train_data.map(lambda l: l.split(',')).persist()\n",
    "test_data = sc.textFile(\"test_data.txt\")\n",
    "test_rdd = test_data.map(lambda l: l.split(',')).persist()"
   ]
  },
  {
   "cell_type": "code",
   "execution_count": 4,
   "metadata": {},
   "outputs": [],
   "source": [
    "user_id_table = sc.broadcast(train_rdd.map(lambda line:line[0]).union(test_rdd.map(lambda line:line[0]))\\\n",
    "                            .distinct().zipWithIndex().collectAsMap())\n",
    "busiess_id_table = sc.broadcast(train_rdd.map(lambda line:line[1]).union(test_rdd.map(lambda line:line[1]))\\\n",
    "                            .distinct().zipWithIndex().collectAsMap())"
   ]
  },
  {
   "cell_type": "code",
   "execution_count": 5,
   "metadata": {},
   "outputs": [],
   "source": [
    "train_ratings = train_rdd.map(lambda line:(user_id_table.value[line[0]],busiess_id_table.value[line[1]],float(line[2]))).map(lambda l: Rating(l[0], l[1], l[2])).persist()"
   ]
  },
  {
   "cell_type": "code",
   "execution_count": 6,
   "metadata": {},
   "outputs": [
    {
     "data": {
      "text/plain": [
       "[Rating(user=282273, product=0, rating=5.0),\n",
       " Rating(user=282273, product=1, rating=1.0),\n",
       " Rating(user=282273, product=131548, rating=1.0),\n",
       " Rating(user=282273, product=98666, rating=1.0),\n",
       " Rating(user=282273, product=2, rating=5.0),\n",
       " Rating(user=282273, product=98667, rating=1.0),\n",
       " Rating(user=282273, product=98668, rating=5.0),\n",
       " Rating(user=282273, product=65794, rating=5.0),\n",
       " Rating(user=282273, product=131549, rating=5.0),\n",
       " Rating(user=282273, product=32924, rating=2.0)]"
      ]
     },
     "execution_count": 6,
     "metadata": {},
     "output_type": "execute_result"
    }
   ],
   "source": [
    "train_ratings.take(10)"
   ]
  },
  {
   "cell_type": "code",
   "execution_count": 14,
   "metadata": {},
   "outputs": [],
   "source": [
    "rank = 3\n",
    "numIterations = 15\n",
    "lambda_value = 0.3\n",
    "model = ALS.train(train_ratings, rank, numIterations,lambda_value)"
   ]
  },
  {
   "cell_type": "code",
   "execution_count": 15,
   "metadata": {},
   "outputs": [],
   "source": [
    "test_ratings = test_rdd.map(lambda line:(user_id_table.value[line[0]],busiess_id_table.value[line[1]],float(line[2]))).map(lambda l: Rating(l[0], l[1], l[2])).persist()\n",
    "test_data = test_ratings.map(lambda p: (p[0], p[1]))\n",
    "predictions = model.predictAll(test_data).map(lambda r: ((r[0], r[1]), r[2]))\n",
    "ratesAndPreds = test_ratings.map(lambda r: ((r[0], r[1]), r[2])).join(predictions)"
   ]
  },
  {
   "cell_type": "code",
   "execution_count": 16,
   "metadata": {},
   "outputs": [
    {
     "name": "stdout",
     "output_type": "stream",
     "text": [
      "Mean Squared Error = 1.9017059066505093\n"
     ]
    }
   ],
   "source": [
    "MSE = ratesAndPreds.map(lambda r: (r[1][0] - r[1][1])**2).mean()\n",
    "RMSE = math.sqrt(MSE)\n",
    "print(\"Mean Squared Error = \" + str(RMSE))\n"
   ]
  },
  {
   "cell_type": "code",
   "execution_count": null,
   "metadata": {},
   "outputs": [],
   "source": []
  }
 ],
 "metadata": {
  "kernelspec": {
   "display_name": "Python 3",
   "language": "python",
   "name": "python3"
  },
  "language_info": {
   "codemirror_mode": {
    "name": "ipython",
    "version": 3
   },
   "file_extension": ".py",
   "mimetype": "text/x-python",
   "name": "python",
   "nbconvert_exporter": "python",
   "pygments_lexer": "ipython3",
   "version": "3.6.6"
  }
 },
 "nbformat": 4,
 "nbformat_minor": 2
}
