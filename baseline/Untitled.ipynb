{
 "cells": [
  {
   "cell_type": "code",
   "execution_count": 1,
   "metadata": {},
   "outputs": [
    {
     "ename": "",
     "evalue": "",
     "output_type": "error",
     "traceback": [
      "Compilation Failed",
      "\u001b[31mMain.scala:48: object apache is not a member of package org",
      "                import org.apache.spark.{SparkContext, SparkConf} ; import scala.collection.mutable.ListBuffer ; import scala.collection.mutable.ArrayBuffer ; import scala.collection.mutable.Map ; import scala.collection.JavaConversions._ ; import scala.math ; import java.io._ ; import java.io.BufferedWriter",
      "                           ^\u001b[0m"
     ]
    }
   ],
   "source": [
    "import org.apache.spark.{SparkContext, SparkConf}\n",
    "import scala.collection.mutable.ListBuffer\n",
    "import scala.collection.mutable.ArrayBuffer\n",
    "import scala.collection.mutable.Map\n",
    "import scala.collection.JavaConversions._\n",
    "import scala.math\n",
    "import java.io._\n",
    "import java.io.BufferedWriter"
   ]
  },
  {
   "cell_type": "code",
   "execution_count": null,
   "metadata": {},
   "outputs": [],
   "source": []
  }
 ],
 "metadata": {
  "kernelspec": {
   "display_name": "Scala 2.10",
   "language": "scala210",
   "name": "scala210"
  }
 },
 "nbformat": 4,
 "nbformat_minor": 2
}
