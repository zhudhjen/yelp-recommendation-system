{
 "cells": [
  {
   "cell_type": "code",
   "execution_count": 1,
   "metadata": {},
   "outputs": [],
   "source": [
    "from sklearn.metrics import mean_squared_error, roc_auc_score\n",
    "import numpy as np\n",
    "import pandas as pd\n",
    "import math"
   ]
  },
  {
   "cell_type": "code",
   "execution_count": 2,
   "metadata": {},
   "outputs": [],
   "source": [
    "Train_ratings=pd.read_csv(\"/Users/dwj/CSCI553/HW/Project/yelp-recommendation-system/baseline/data/train_data_full.csv\",encoding=\"ISO-8859-1\")\n",
    "Test_ratings = pd.read_csv(\"/Users/dwj/CSCI553/HW/Project/yelp-recommendation-system/baseline/data/ItemBasedCF.csv\",encoding=\"ISO-8859-1\")"
   ]
  },
  {
   "cell_type": "code",
   "execution_count": 6,
   "metadata": {},
   "outputs": [],
   "source": [
    "User_mean =  Train_ratings.groupby(['userID'], as_index = False, sort = False).mean().rename(columns = {'rate': 'rating_mean'})[['userID','rating_mean']]"
   ]
  },
  {
   "cell_type": "code",
   "execution_count": 4,
   "metadata": {},
   "outputs": [
    {
     "name": "stdout",
     "output_type": "stream",
     "text": [
      "                   userID  rating_mean\n",
      "0  msQe1u7Z_XuqjGoqhB0J5g          3.0\n",
      "1  TlvV-xJhmh7LCwJYXkV-cg          5.0\n",
      "2  NhOc64RsrTT1Dls50yYW8g          3.0\n",
      "3  LKcdcMrq2xDzIThSHiZmLg          4.0\n",
      "4  hxqo4NyJFfeOmuoVi--s1A          5.0\n",
      "5  eG6HneK9zLcuZpVuKcsCGQ          5.0\n",
      "6  5ngpW5tf3ep680eG1HxHzA          3.5\n",
      "7  eAavwM32i2h7sNNer--kGw          1.0\n",
      "8  nqzeKqdWBruvdgMd6aBHrg          5.0\n",
      "9  Fc_nb6N6Sdurqb-rwsY1Bw          1.0\n",
      "1799100\n",
      "2692958\n"
     ]
    }
   ],
   "source": [
    "print(User_mean.head(10))\n",
    "print(Test_ratings.size)\n",
    "print(User_mean.size)"
   ]
  },
  {
   "cell_type": "code",
   "execution_count": 5,
   "metadata": {},
   "outputs": [],
   "source": [
    "Data_merge = pd.merge(Test_ratings,User_mean,on = 'userID', how = 'inner', sort = False)"
   ]
  },
  {
   "cell_type": "code",
   "execution_count": 6,
   "metadata": {},
   "outputs": [
    {
     "name": "stdout",
     "output_type": "stream",
     "text": [
      "                   userID              businessID      rate  rating_mean\n",
      "0  B1xWMLMeUcu0jVT_R7W36g  B01pO_pI_8AOfEsukGNg-Q  3.053693     3.750000\n",
      "1  J5n8LBC06H0Cg8jiYumIaA  X1S8u_cFfBpdWfvQBo_BqA  2.545512     2.666667\n",
      "2  0tvCcnfJnSs55iB6mqPk3w  0d0i0FaJq1GIeW1rS2D-5w  3.587488     3.519164\n",
      "3  0tvCcnfJnSs55iB6mqPk3w  RqAP37Oi5Oyo_ZvDg5vcQQ  3.480914     3.519164\n",
      "4  0tvCcnfJnSs55iB6mqPk3w  7RTwUpuPFnIHPoTmWJpWhQ  3.463761     3.519164\n",
      "5  0tvCcnfJnSs55iB6mqPk3w  GWNmYFQw3WitfTPt5uGMvQ  3.675031     3.519164\n",
      "6  0tvCcnfJnSs55iB6mqPk3w  ND-zzXnjjZ_QjwtCttOOWg  4.013786     3.519164\n",
      "7  0tvCcnfJnSs55iB6mqPk3w  qoiUo-7k2ATm0eokxNr8nA  3.143428     3.519164\n",
      "8  0tvCcnfJnSs55iB6mqPk3w  m6QREZLAQatX1swZ2FN4hQ  3.461537     3.519164\n",
      "9  0tvCcnfJnSs55iB6mqPk3w  95CCHowiE0W_ovv5-9lQAQ  3.544858     3.519164\n"
     ]
    }
   ],
   "source": [
    "print(Data_merge.head(10))"
   ]
  },
  {
   "cell_type": "code",
   "execution_count": 7,
   "metadata": {},
   "outputs": [
    {
     "name": "stdout",
     "output_type": "stream",
     "text": [
      "                   userID              businessID      rate  rating_mean  \\\n",
      "0  B1xWMLMeUcu0jVT_R7W36g  B01pO_pI_8AOfEsukGNg-Q  3.053693     3.750000   \n",
      "1  J5n8LBC06H0Cg8jiYumIaA  X1S8u_cFfBpdWfvQBo_BqA  2.545512     2.666667   \n",
      "2  0tvCcnfJnSs55iB6mqPk3w  0d0i0FaJq1GIeW1rS2D-5w  3.587488     3.519164   \n",
      "3  0tvCcnfJnSs55iB6mqPk3w  RqAP37Oi5Oyo_ZvDg5vcQQ  3.480914     3.519164   \n",
      "4  0tvCcnfJnSs55iB6mqPk3w  7RTwUpuPFnIHPoTmWJpWhQ  3.463761     3.519164   \n",
      "5  0tvCcnfJnSs55iB6mqPk3w  GWNmYFQw3WitfTPt5uGMvQ  3.675031     3.519164   \n",
      "6  0tvCcnfJnSs55iB6mqPk3w  ND-zzXnjjZ_QjwtCttOOWg  4.013786     3.519164   \n",
      "7  0tvCcnfJnSs55iB6mqPk3w  qoiUo-7k2ATm0eokxNr8nA  3.143428     3.519164   \n",
      "8  0tvCcnfJnSs55iB6mqPk3w  m6QREZLAQatX1swZ2FN4hQ  3.461537     3.519164   \n",
      "9  0tvCcnfJnSs55iB6mqPk3w  95CCHowiE0W_ovv5-9lQAQ  3.544858     3.519164   \n",
      "\n",
      "     y_true  \n",
      "0 -0.696307  \n",
      "1 -0.121154  \n",
      "2  0.068324  \n",
      "3 -0.038250  \n",
      "4 -0.055402  \n",
      "5  0.155868  \n",
      "6  0.494622  \n",
      "7 -0.375735  \n",
      "8 -0.057627  \n",
      "9  0.025695  \n"
     ]
    }
   ],
   "source": [
    "Data_merge['y_true'] = Data_merge['rate'] - Data_merge['rating_mean']\n",
    "print(Data_merge.head(10))"
   ]
  },
  {
   "cell_type": "code",
   "execution_count": 8,
   "metadata": {},
   "outputs": [],
   "source": [
    "y_true = np.array(Data_merge['y_true'])"
   ]
  },
  {
   "cell_type": "code",
   "execution_count": 9,
   "metadata": {},
   "outputs": [],
   "source": [
    "y_scores = np.array(Data_merge['rate'])"
   ]
  },
  {
   "cell_type": "code",
   "execution_count": 10,
   "metadata": {},
   "outputs": [],
   "source": [
    "with np.nditer(y_true, op_flags=['readwrite']) as it:\n",
    "    for x in it:\n",
    "        if x >=0:\n",
    "            x[...] = int(1)\n",
    "        else:\n",
    "            x[...] = int(0)"
   ]
  },
  {
   "cell_type": "code",
   "execution_count": 11,
   "metadata": {},
   "outputs": [
    {
     "data": {
      "text/plain": [
       "0.4612342569462242"
      ]
     },
     "execution_count": 11,
     "metadata": {},
     "output_type": "execute_result"
    }
   ],
   "source": [
    "roc_auc_score(y_true, y_scores)"
   ]
  },
  {
   "cell_type": "code",
   "execution_count": 18,
   "metadata": {},
   "outputs": [],
   "source": [
    "Test_ratings_1 = pd.read_csv(\"/Users/dwj/CSCI553/HW/Project/yelp-recommendation-system/baseline/data/modelBasedCF_2.csv\",encoding=\"ISO-8859-1\")"
   ]
  },
  {
   "cell_type": "code",
   "execution_count": 19,
   "metadata": {},
   "outputs": [],
   "source": [
    "Data_merge_1 = pd.merge(Test_ratings_1,User_mean,on = 'userID', how = 'inner', sort = False)"
   ]
  },
  {
   "cell_type": "code",
   "execution_count": 20,
   "metadata": {},
   "outputs": [],
   "source": [
    "Data_merge_1['y_true'] = Data_merge_1['rate'] - Data_merge_1['rating_mean']"
   ]
  },
  {
   "cell_type": "code",
   "execution_count": 21,
   "metadata": {},
   "outputs": [],
   "source": [
    "y_true_1 = np.array(Data_merge_1['y_true'])\n",
    "y_scores_1 = np.array(Data_merge_1['rate'])"
   ]
  },
  {
   "cell_type": "code",
   "execution_count": 22,
   "metadata": {},
   "outputs": [],
   "source": [
    "with np.nditer(y_true_1, op_flags=['readwrite']) as it:\n",
    "    for x in it:\n",
    "        if x >=0:\n",
    "            x[...] = int(1)\n",
    "        else:\n",
    "            x[...] = int(0)"
   ]
  },
  {
   "cell_type": "code",
   "execution_count": 23,
   "metadata": {},
   "outputs": [
    {
     "data": {
      "text/plain": [
       "0.7331966576150378"
      ]
     },
     "execution_count": 23,
     "metadata": {},
     "output_type": "execute_result"
    }
   ],
   "source": [
    "roc_auc_score(y_true_1, y_scores_1)"
   ]
  },
  {
   "cell_type": "code",
   "execution_count": null,
   "metadata": {},
   "outputs": [],
   "source": []
  }
 ],
 "metadata": {
  "kernelspec": {
   "display_name": "Python 3",
   "language": "python",
   "name": "python3"
  },
  "language_info": {
   "codemirror_mode": {
    "name": "ipython",
    "version": 3
   },
   "file_extension": ".py",
   "mimetype": "text/x-python",
   "name": "python",
   "nbconvert_exporter": "python",
   "pygments_lexer": "ipython3",
   "version": "3.6.6"
  }
 },
 "nbformat": 4,
 "nbformat_minor": 2
}
