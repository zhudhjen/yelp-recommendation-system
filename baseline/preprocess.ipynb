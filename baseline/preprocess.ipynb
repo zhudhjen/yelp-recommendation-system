{
 "cells": [
  {
   "cell_type": "code",
   "execution_count": 1,
   "metadata": {},
   "outputs": [],
   "source": [
    "from pyspark import SparkConf,SparkContext\n",
    "from pyspark.sql import SQLContext\n"
   ]
  },
  {
   "cell_type": "code",
   "execution_count": 2,
   "metadata": {},
   "outputs": [],
   "source": [
    "conf = SparkConf().setAppName(\"preprocess_data\")\n",
    "sc = SparkContext(conf = conf)\n",
    "sqlContext = SQLContext(sc)\n"
   ]
  },
  {
   "cell_type": "code",
   "execution_count": 11,
   "metadata": {},
   "outputs": [],
   "source": [
    "# train_data = sqlContext.read.json(\"reviews_training_set.json\")\n",
    "train_data = sqlContext.read.json(\"reviews_training_set_1.json\")"
   ]
  },
  {
   "cell_type": "code",
   "execution_count": 12,
   "metadata": {},
   "outputs": [],
   "source": [
    "train_rdd = train_data.select(\"user_id\", \"business_id\", \"stars\")"
   ]
  },
  {
   "cell_type": "code",
   "execution_count": 13,
   "metadata": {},
   "outputs": [],
   "source": [
    "train_rdd = train_rdd.rdd.map(lambda l: ((l[0],l[1]),l[2])).persist()"
   ]
  },
  {
   "cell_type": "code",
   "execution_count": 14,
   "metadata": {},
   "outputs": [],
   "source": [
    "train_collect = train_rdd.collect()\n",
    "outfile = open(\"data/train_data_full.csv\",\"w\")\n",
    "outfile.write(\"userID,businessID,rate\\n\")\n",
    "for item in train_collect:\n",
    "    outfile.write(item[0][0] + \",\" + item[0][1] + \",\" + str(item[1]) + \"\\n\")\n",
    "outfile.close()"
   ]
  },
  {
   "cell_type": "code",
   "execution_count": 15,
   "metadata": {},
   "outputs": [],
   "source": [
    "train_data = sqlContext.read.json(\"reviews_training_set_2.json\")\n",
    "train_rdd = train_data.select(\"user_id\", \"business_id\", \"stars\")\n",
    "train_rdd = train_rdd.rdd.map(lambda l: ((l[0],l[1]),l[2])).persist()\n",
    "train_collect = train_rdd.collect()\n",
    "outfile = open(\"data/train_data_full.csv\",\"a\")\n",
    "for item in train_collect:\n",
    "    outfile.write(item[0][0] + \",\" + item[0][1] + \",\" + str(item[1]) + \"\\n\")\n",
    "outfile.close()"
   ]
  },
  {
   "cell_type": "code",
   "execution_count": 16,
   "metadata": {},
   "outputs": [],
   "source": [
    "train_data = sqlContext.read.json(\"reviews_training_set_3.json\")\n",
    "train_rdd = train_data.select(\"user_id\", \"business_id\", \"stars\")\n",
    "train_rdd = train_rdd.rdd.map(lambda l: ((l[0],l[1]),l[2])).persist()\n",
    "train_collect = train_rdd.collect()\n",
    "outfile = open(\"data/train_data_full.csv\",\"a\")\n",
    "for item in train_collect:\n",
    "    outfile.write(item[0][0] + \",\" + item[0][1] + \",\" + str(item[1]) + \"\\n\")\n",
    "outfile.close()"
   ]
  },
  {
   "cell_type": "code",
   "execution_count": 17,
   "metadata": {},
   "outputs": [],
   "source": [
    "train_data = sqlContext.read.json(\"reviews_training_set_4.json\")\n",
    "train_rdd = train_data.select(\"user_id\", \"business_id\", \"stars\")\n",
    "train_rdd = train_rdd.rdd.map(lambda l: ((l[0],l[1]),l[2])).persist()\n",
    "train_collect = train_rdd.collect()\n",
    "outfile = open(\"data/train_data_full.csv\",\"a\")\n",
    "for item in train_collect:\n",
    "    outfile.write(item[0][0] + \",\" + item[0][1] + \",\" + str(item[1]) + \"\\n\")\n",
    "outfile.close()"
   ]
  },
  {
   "cell_type": "code",
   "execution_count": 18,
   "metadata": {},
   "outputs": [],
   "source": [
    "train_data = sqlContext.read.json(\"reviews_training_set_5.json\")\n",
    "train_rdd = train_data.select(\"user_id\", \"business_id\", \"stars\")\n",
    "train_rdd = train_rdd.rdd.map(lambda l: ((l[0],l[1]),l[2])).persist()\n",
    "train_collect = train_rdd.collect()\n",
    "outfile = open(\"data/train_data_full.csv\",\"a\")\n",
    "for item in train_collect:\n",
    "    outfile.write(item[0][0] + \",\" + item[0][1] + \",\" + str(item[1]) + \"\\n\")\n",
    "outfile.close()"
   ]
  },
  {
   "cell_type": "code",
   "execution_count": 25,
   "metadata": {},
   "outputs": [],
   "source": [
    "test_data = sqlContext.read.json(\"reviews_testing_set.json\")"
   ]
  },
  {
   "cell_type": "code",
   "execution_count": 26,
   "metadata": {},
   "outputs": [],
   "source": [
    "test_rdd = test_data.select(\"user_id\", \"business_id\", \"stars\")\n",
    "test_rdd = test_rdd.rdd.map(lambda l:((l[0],l[1]),l[2])).persist()"
   ]
  },
  {
   "cell_type": "code",
   "execution_count": 27,
   "metadata": {},
   "outputs": [],
   "source": [
    "test_collect = test_rdd.collect()\n",
    "outfile = open(\"data/test_data_full.csv\",\"w\")\n",
    "outfile.write(\"userID,businessID,rate\\n\")\n",
    "for item in test_collect:\n",
    "    outfile.write(item[0][0] + \",\" + item[0][1] + \",\" + str(item[1]) + \"\\n\")\n",
    "outfile.close()"
   ]
  }
 ],
 "metadata": {
  "kernelspec": {
   "display_name": "Python 3",
   "language": "python",
   "name": "python3"
  },
  "language_info": {
   "codemirror_mode": {
    "name": "ipython",
    "version": 3
   },
   "file_extension": ".py",
   "mimetype": "text/x-python",
   "name": "python",
   "nbconvert_exporter": "python",
   "pygments_lexer": "ipython3",
   "version": "3.6.6"
  }
 },
 "nbformat": 4,
 "nbformat_minor": 2
}
